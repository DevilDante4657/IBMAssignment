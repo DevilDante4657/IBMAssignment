{
 "cells": [
  {
   "cell_type": "markdown",
   "id": "7ab2345e-b875-48ab-8563-d0adb39086f4",
   "metadata": {},
   "source": [
    "#Data Science Tools and Ecosystem"
   ]
  },
  {
   "cell_type": "markdown",
   "id": "ce3704c8-6516-453f-ab3c-b4e73475fc19",
   "metadata": {},
   "source": [
    "In this notebook, Data Science Tools and Ecosystem are summarized."
   ]
  },
  {
   "cell_type": "markdown",
   "id": "ce0d8e31-b31e-40e8-bee1-26d6289ed140",
   "metadata": {},
   "source": [
    "__Objectives:__\n",
    "* Popular languages in data science\n",
    "* Libraries used by data scientists\n",
    "* Data Science tools\n"
   ]
  },
  {
   "cell_type": "markdown",
   "id": "8a21a344-3034-4bca-a67e-9bcd2fd8b0fa",
   "metadata": {},
   "source": [
    "Some of the popular languages that Data Scientists use are:\n",
    "1. R\n",
    "2. Python\n",
    "3. Java"
   ]
  },
  {
   "cell_type": "markdown",
   "id": "50db6d83-51d4-48a1-b834-bdb209536f1a",
   "metadata": {},
   "source": [
    "Some of the commonly used libraries used by Data Scientists include:\n",
    "1. Panda\n",
    "2. NumPy\n",
    "3. SciPy"
   ]
  },
  {
   "cell_type": "markdown",
   "id": "81aa450b-48bd-446f-be32-6e393f2ad2ea",
   "metadata": {},
   "source": [
    "|Data Science Tools|\n",
    "-------------------\n",
    "|Jupyter Notebook|\n",
    "|Spyder|\n",
    "|RStudio|"
   ]
  },
  {
   "cell_type": "markdown",
   "id": "cd7e4102-f51b-43f9-aeb9-b52233e19257",
   "metadata": {},
   "source": [
    "###Below are a few examples of evaluating arithmetic expressions in Python\n",
    "+,-,*,%"
   ]
  },
  {
   "cell_type": "code",
   "execution_count": 6,
   "id": "18536ee4-9505-4e5e-a70d-c7386d40992d",
   "metadata": {},
   "outputs": [
    {
     "data": {
      "text/plain": [
       "17"
      ]
     },
     "execution_count": 6,
     "metadata": {},
     "output_type": "execute_result"
    }
   ],
   "source": [
    "#This a simple arithmetic expression to mutiply then add integers  \n",
    "(3*4)+5 \n"
   ]
  },
  {
   "cell_type": "code",
   "execution_count": 12,
   "id": "5e9b2f52-5799-40bb-94e4-ee7d2094047c",
   "metadata": {},
   "outputs": [
    {
     "name": "stdout",
     "output_type": "stream",
     "text": [
      "3.3333333333333335\n"
     ]
    }
   ],
   "source": [
    "#This will convert 200 minutes to hours by diving by 60\n",
    "minutes = 200\n",
    "hours = minutes/60\n",
    "print(hours)"
   ]
  },
  {
   "cell_type": "markdown",
   "id": "7883999c-489a-4b8a-a6d9-ef9be1470a4b",
   "metadata": {},
   "source": [
    "##Author\n",
    "Sahejpreet Singh"
   ]
  }
 ],
 "metadata": {
  "kernelspec": {
   "display_name": "Python 3 (ipykernel)",
   "language": "python",
   "name": "python3"
  },
  "language_info": {
   "codemirror_mode": {
    "name": "ipython",
    "version": 3
   },
   "file_extension": ".py",
   "mimetype": "text/x-python",
   "name": "python",
   "nbconvert_exporter": "python",
   "pygments_lexer": "ipython3",
   "version": "3.12.4"
  }
 },
 "nbformat": 4,
 "nbformat_minor": 5
}
